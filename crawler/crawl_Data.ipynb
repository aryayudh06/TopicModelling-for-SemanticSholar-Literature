{
 "cells": [
  {
   "cell_type": "code",
   "execution_count": 3,
   "metadata": {},
   "outputs": [
    {
     "name": "stdout",
     "output_type": "stream",
     "text": [
      "Requirement already satisfied: selenium in c:\\users\\hp\\appdata\\local\\programs\\python\\python310\\lib\\site-packages (4.29.0)\n",
      "Requirement already satisfied: trio~=0.17 in c:\\users\\hp\\appdata\\local\\programs\\python\\python310\\lib\\site-packages (from selenium) (0.29.0)\n",
      "Requirement already satisfied: trio-websocket~=0.9 in c:\\users\\hp\\appdata\\local\\programs\\python\\python310\\lib\\site-packages (from selenium) (0.12.2)\n",
      "Requirement already satisfied: urllib3[socks]<3,>=1.26 in c:\\users\\hp\\appdata\\local\\programs\\python\\python310\\lib\\site-packages (from selenium) (2.3.0)\n",
      "Requirement already satisfied: certifi>=2021.10.8 in c:\\users\\hp\\appdata\\local\\programs\\python\\python310\\lib\\site-packages (from selenium) (2025.1.31)\n",
      "Requirement already satisfied: websocket-client~=1.8 in c:\\users\\hp\\appdata\\local\\programs\\python\\python310\\lib\\site-packages (from selenium) (1.8.0)\n",
      "Requirement already satisfied: typing_extensions~=4.9 in c:\\users\\hp\\appdata\\local\\programs\\python\\python310\\lib\\site-packages (from selenium) (4.12.2)\n",
      "Requirement already satisfied: cffi>=1.14 in c:\\users\\hp\\appdata\\local\\programs\\python\\python310\\lib\\site-packages (from trio~=0.17->selenium) (1.17.1)\n",
      "Requirement already satisfied: outcome in c:\\users\\hp\\appdata\\local\\programs\\python\\python310\\lib\\site-packages (from trio~=0.17->selenium) (1.3.0.post0)\n",
      "Requirement already satisfied: sniffio>=1.3.0 in c:\\users\\hp\\appdata\\local\\programs\\python\\python310\\lib\\site-packages (from trio~=0.17->selenium) (1.3.1)\n",
      "Requirement already satisfied: attrs>=23.2.0 in c:\\users\\hp\\appdata\\local\\programs\\python\\python310\\lib\\site-packages (from trio~=0.17->selenium) (25.1.0)\n",
      "Requirement already satisfied: idna in c:\\users\\hp\\appdata\\local\\programs\\python\\python310\\lib\\site-packages (from trio~=0.17->selenium) (3.10)\n",
      "Requirement already satisfied: sortedcontainers in c:\\users\\hp\\appdata\\local\\programs\\python\\python310\\lib\\site-packages (from trio~=0.17->selenium) (2.4.0)\n",
      "Requirement already satisfied: exceptiongroup in c:\\users\\hp\\appdata\\local\\programs\\python\\python310\\lib\\site-packages (from trio~=0.17->selenium) (1.2.2)\n",
      "Requirement already satisfied: wsproto>=0.14 in c:\\users\\hp\\appdata\\local\\programs\\python\\python310\\lib\\site-packages (from trio-websocket~=0.9->selenium) (1.2.0)\n",
      "Requirement already satisfied: pysocks!=1.5.7,<2.0,>=1.5.6 in c:\\users\\hp\\appdata\\local\\programs\\python\\python310\\lib\\site-packages (from urllib3[socks]<3,>=1.26->selenium) (1.7.1)\n",
      "Requirement already satisfied: pycparser in c:\\users\\hp\\appdata\\local\\programs\\python\\python310\\lib\\site-packages (from cffi>=1.14->trio~=0.17->selenium) (2.22)\n",
      "Requirement already satisfied: h11<1,>=0.9.0 in c:\\users\\hp\\appdata\\local\\programs\\python\\python310\\lib\\site-packages (from wsproto>=0.14->trio-websocket~=0.9->selenium) (0.14.0)\n",
      "Note: you may need to restart the kernel to use updated packages.\n"
     ]
    },
    {
     "name": "stderr",
     "output_type": "stream",
     "text": [
      "\n",
      "[notice] A new release of pip available: 22.2.1 -> 25.0.1\n",
      "[notice] To update, run: python.exe -m pip install --upgrade pip\n"
     ]
    },
    {
     "name": "stdout",
     "output_type": "stream",
     "text": [
      "Collecting webdriver_manager\n",
      "  Downloading webdriver_manager-4.0.2-py2.py3-none-any.whl (27 kB)\n",
      "Requirement already satisfied: requests in c:\\users\\hp\\appdata\\local\\programs\\python\\python310\\lib\\site-packages (from webdriver_manager) (2.32.3)\n",
      "Requirement already satisfied: python-dotenv in c:\\users\\hp\\appdata\\local\\programs\\python\\python310\\lib\\site-packages (from webdriver_manager) (1.0.1)\n",
      "Requirement already satisfied: packaging in c:\\users\\hp\\appdata\\local\\programs\\python\\python310\\lib\\site-packages (from webdriver_manager) (24.2)\n",
      "Requirement already satisfied: charset-normalizer<4,>=2 in c:\\users\\hp\\appdata\\local\\programs\\python\\python310\\lib\\site-packages (from requests->webdriver_manager) (3.4.1)\n",
      "Requirement already satisfied: certifi>=2017.4.17 in c:\\users\\hp\\appdata\\local\\programs\\python\\python310\\lib\\site-packages (from requests->webdriver_manager) (2025.1.31)\n",
      "Requirement already satisfied: idna<4,>=2.5 in c:\\users\\hp\\appdata\\local\\programs\\python\\python310\\lib\\site-packages (from requests->webdriver_manager) (3.10)\n",
      "Requirement already satisfied: urllib3<3,>=1.21.1 in c:\\users\\hp\\appdata\\local\\programs\\python\\python310\\lib\\site-packages (from requests->webdriver_manager) (2.3.0)\n",
      "Installing collected packages: webdriver_manager\n",
      "Successfully installed webdriver_manager-4.0.2\n",
      "Note: you may need to restart the kernel to use updated packages.\n"
     ]
    },
    {
     "name": "stderr",
     "output_type": "stream",
     "text": [
      "\n",
      "[notice] A new release of pip available: 22.2.1 -> 25.0.1\n",
      "[notice] To update, run: python.exe -m pip install --upgrade pip\n"
     ]
    },
    {
     "name": "stdout",
     "output_type": "stream",
     "text": [
      "Collecting langdetect\n",
      "  Downloading langdetect-1.0.9.tar.gz (981 kB)\n",
      "     -------------------------------------- 981.5/981.5 kB 1.5 MB/s eta 0:00:00\n",
      "  Preparing metadata (setup.py): started\n",
      "  Preparing metadata (setup.py): finished with status 'done'\n",
      "Requirement already satisfied: six in c:\\users\\hp\\appdata\\roaming\\python\\python310\\site-packages (from langdetect) (1.17.0)\n",
      "Using legacy 'setup.py install' for langdetect, since package 'wheel' is not installed.\n",
      "Installing collected packages: langdetect\n",
      "  Running setup.py install for langdetect: started\n",
      "  Running setup.py install for langdetect: finished with status 'done'\n",
      "Successfully installed langdetect-1.0.9\n",
      "Note: you may need to restart the kernel to use updated packages.\n"
     ]
    },
    {
     "name": "stderr",
     "output_type": "stream",
     "text": [
      "\n",
      "[notice] A new release of pip available: 22.2.1 -> 25.0.1\n",
      "[notice] To update, run: python.exe -m pip install --upgrade pip\n"
     ]
    }
   ],
   "source": [
    "%pip install selenium\n",
    "%pip install webdriver_manager\n",
    "%pip install langdetect"
   ]
  },
  {
   "cell_type": "code",
   "execution_count": 9,
   "metadata": {},
   "outputs": [
    {
     "name": "stdout",
     "output_type": "stream",
     "text": [
      "Collecting pandas\n",
      "  Downloading pandas-2.2.3-cp310-cp310-win_amd64.whl (11.6 MB)\n",
      "     ---------------------------------------- 11.6/11.6 MB 4.8 MB/s eta 0:00:00\n",
      "Requirement already satisfied: python-dateutil>=2.8.2 in c:\\users\\hp\\appdata\\roaming\\python\\python310\\site-packages (from pandas) (2.9.0.post0)\n",
      "Collecting tzdata>=2022.7\n",
      "  Downloading tzdata-2025.1-py2.py3-none-any.whl (346 kB)\n",
      "     -------------------------------------- 346.8/346.8 kB 5.4 MB/s eta 0:00:00\n",
      "Collecting pytz>=2020.1\n",
      "  Downloading pytz-2025.1-py2.py3-none-any.whl (507 kB)\n",
      "     -------------------------------------- 507.9/507.9 kB 6.4 MB/s eta 0:00:00\n",
      "Requirement already satisfied: numpy>=1.22.4 in c:\\users\\hp\\appdata\\local\\programs\\python\\python310\\lib\\site-packages (from pandas) (2.2.3)\n",
      "Requirement already satisfied: six>=1.5 in c:\\users\\hp\\appdata\\roaming\\python\\python310\\site-packages (from python-dateutil>=2.8.2->pandas) (1.17.0)\n",
      "Installing collected packages: pytz, tzdata, pandas\n",
      "Successfully installed pandas-2.2.3 pytz-2025.1 tzdata-2025.1\n",
      "Note: you may need to restart the kernel to use updated packages.\n"
     ]
    },
    {
     "name": "stderr",
     "output_type": "stream",
     "text": [
      "\n",
      "[notice] A new release of pip available: 22.2.1 -> 25.0.1\n",
      "[notice] To update, run: python.exe -m pip install --upgrade pip\n"
     ]
    }
   ],
   "source": [
    "%pip install pandas"
   ]
  },
  {
   "cell_type": "code",
   "execution_count": null,
   "metadata": {},
   "outputs": [
    {
     "name": "stdout",
     "output_type": "stream",
     "text": [
      "Halaman 1 selesai, total artikel terkumpul: 7\n",
      "Halaman 2 selesai, total artikel terkumpul: 12\n",
      "Halaman 3 selesai, total artikel terkumpul: 21\n",
      "Halaman 4 selesai, total artikel terkumpul: 30\n",
      "Halaman 5 selesai, total artikel terkumpul: 37\n",
      "Halaman 6 selesai, total artikel terkumpul: 47\n",
      "Halaman 7 selesai, total artikel terkumpul: 57\n",
      "Halaman 8 selesai, total artikel terkumpul: 65\n",
      "Halaman 9 selesai, total artikel terkumpul: 75\n",
      "Halaman 10 selesai, total artikel terkumpul: 84\n",
      "Halaman 11 selesai, total artikel terkumpul: 94\n",
      "Halaman 12 selesai, total artikel terkumpul: 104\n",
      "Halaman 13 selesai, total artikel terkumpul: 113\n",
      "Halaman 14 selesai, total artikel terkumpul: 123\n",
      "Halaman 15 selesai, total artikel terkumpul: 133\n",
      "Halaman 16 selesai, total artikel terkumpul: 143\n"
     ]
    },
    {
     "ename": "KeyboardInterrupt",
     "evalue": "",
     "output_type": "error",
     "traceback": [
      "\u001b[1;31m---------------------------------------------------------------------------\u001b[0m",
      "\u001b[1;31mKeyboardInterrupt\u001b[0m                         Traceback (most recent call last)",
      "Cell \u001b[1;32mIn[16], line 43\u001b[0m\n\u001b[0;32m     40\u001b[0m search_url \u001b[38;5;241m=\u001b[39m \u001b[38;5;124mf\u001b[39m\u001b[38;5;124m\"\u001b[39m\u001b[38;5;124mhttps://scholar.google.com/scholar?lr=lang_en&q=\u001b[39m\u001b[38;5;132;01m{\u001b[39;00mquery\u001b[38;5;132;01m}\u001b[39;00m\u001b[38;5;124m&start=\u001b[39m\u001b[38;5;132;01m{\u001b[39;00mstart\u001b[38;5;132;01m}\u001b[39;00m\u001b[38;5;124m&hl=en\u001b[39m\u001b[38;5;124m\"\u001b[39m\n\u001b[0;32m     42\u001b[0m driver\u001b[38;5;241m.\u001b[39mget(search_url)\n\u001b[1;32m---> 43\u001b[0m \u001b[43mtime\u001b[49m\u001b[38;5;241;43m.\u001b[39;49m\u001b[43msleep\u001b[49m\u001b[43m(\u001b[49m\u001b[38;5;241;43m3\u001b[39;49m\u001b[43m)\u001b[49m  \u001b[38;5;66;03m# Tambahkan delay untuk menghindari deteksi bot\u001b[39;00m\n\u001b[0;32m     45\u001b[0m \u001b[38;5;66;03m# Periksa apakah ada hasil pencarian\u001b[39;00m\n\u001b[0;32m     46\u001b[0m \u001b[38;5;28;01mif\u001b[39;00m \u001b[38;5;124m\"\u001b[39m\u001b[38;5;124mdid not match any articles\u001b[39m\u001b[38;5;124m\"\u001b[39m \u001b[38;5;129;01min\u001b[39;00m driver\u001b[38;5;241m.\u001b[39mpage_source:\n",
      "\u001b[1;31mKeyboardInterrupt\u001b[0m: "
     ]
    }
   ],
   "source": [
    "from selenium import webdriver\n",
    "from selenium.webdriver.common.by import By\n",
    "from selenium.webdriver.chrome.service import Service\n",
    "from selenium.webdriver.chrome.options import Options\n",
    "from selenium.webdriver.support.ui import WebDriverWait\n",
    "from selenium.webdriver.support import expected_conditions as EC\n",
    "from webdriver_manager.chrome import ChromeDriverManager\n",
    "import time\n",
    "import pandas as pd\n",
    "import re\n",
    "from langdetect import detect, DetectorFactory\n",
    "\n",
    "# Pastikan hasil deteksi bahasa konsisten\n",
    "DetectorFactory.seed = 0\n",
    "\n",
    "# Setup Selenium untuk Google Chrome\n",
    "service = Service(ChromeDriverManager().install())\n",
    "options = Options()\n",
    "options.add_argument(\"--start-maximized\")\n",
    "options.add_argument(\"user-agent=Mozilla/5.0 (Windows NT 10.0; Win64; x64) AppleWebKit/537.36 (KHTML, like Gecko) Chrome/91.0.4472.124 Safari/537.36\")\n",
    "\n",
    "# Inisialisasi driver Chrome\n",
    "driver = webdriver.Chrome(service=service, options=options)\n",
    "\n",
    "# Query pencarian\n",
    "query = '\"Universitas Brawijaya\"'\n",
    "max_pages = 500  # Batasi jumlah halaman agar tidak diblokir\n",
    "articles = []\n",
    "\n",
    "# Fungsi untuk mengecek apakah teks dalam bahasa Inggris\n",
    "def is_english(text):\n",
    "    try:\n",
    "        return detect(text) == \"en\"\n",
    "    except:\n",
    "        return False  # Jika gagal deteksi, anggap bukan bahasa Inggris\n",
    "\n",
    "# Looping untuk scrape tiap halaman\n",
    "for page in range(max_pages):\n",
    "    start = page * 10  # Google Scholar menampilkan 10 artikel per halaman\n",
    "    search_url = f\"https://scholar.google.com/scholar?lr=lang_en&q={query}&start={start}&hl=en\"\n",
    "    \n",
    "    driver.get(search_url)\n",
    "    time.sleep(3)  # Tambahkan delay untuk menghindari deteksi bot\n",
    "\n",
    "    # Periksa apakah ada hasil pencarian\n",
    "    if \"did not match any articles\" in driver.page_source:\n",
    "        print(f\"Tidak ada hasil di halaman {page + 1}, berhenti scraping.\")\n",
    "        break\n",
    "\n",
    "    # Tunggu hingga elemen artikel muncul\n",
    "    wait = WebDriverWait(driver, 10)\n",
    "    try:\n",
    "        wait.until(EC.presence_of_all_elements_located((By.CSS_SELECTOR, \"h3.gs_rt\")))\n",
    "    except:\n",
    "        print(f\"Halaman {page + 1} tidak menampilkan artikel, mungkin terblokir.\")\n",
    "        break\n",
    "\n",
    "    # Ambil semua artikel\n",
    "    titles = driver.find_elements(By.CSS_SELECTOR, \"h3.gs_rt\")\n",
    "    infos = driver.find_elements(By.CSS_SELECTOR, \"div.gs_a\")  # Info tahun\n",
    "    abstracts = driver.find_elements(By.CSS_SELECTOR, \"div.gs_rs\")  # Abstrak\n",
    "\n",
    "    if not titles:\n",
    "        print(f\"Tidak ada judul ditemukan di halaman {page + 1}, mungkin diblokir.\")\n",
    "        break\n",
    "\n",
    "    for i in range(len(titles)):\n",
    "        title_text = titles[i].text.strip() if i < len(titles) else \"\"\n",
    "        info_text = infos[i].text if i < len(infos) else \"\"\n",
    "        abstract_text = abstracts[i].text.strip() if i < len(abstracts) else \"\"\n",
    "\n",
    "        # Ekstrak tahun (4 digit)\n",
    "        year_match = re.search(r\"\\b(19|20)\\d{2}\\b\", info_text)\n",
    "        year = year_match.group(0) if year_match else \"Unknown\"\n",
    "\n",
    "        # Simpan hanya jika berbahasa Inggris\n",
    "        if title_text and is_english(title_text):\n",
    "            articles.append({\"Title\": title_text, \"Year\": year, \"Abstract\": abstract_text})\n",
    "\n",
    "    print(f\"Halaman {page + 1} selesai, total artikel terkumpul: {len(articles)}\")\n",
    "\n",
    "# Tutup browser\n",
    "driver.quit()\n",
    "\n",
    "# Simpan hasil ke dalam file CSV\n",
    "df = pd.DataFrame(articles)\n",
    "csv_filename = \"universitas_brawijaya_scholar_results2.csv\"\n",
    "df.to_csv(csv_filename, index=False, encoding=\"utf-8\")\n",
    "\n",
    "print(f\"\\nHasil scraping telah disimpan ke {csv_filename}\")\n",
    "\n",
    "# Cetak hasil (hanya beberapa contoh)\n",
    "print(\"\\nBeberapa Judul Artikel yang Ditemukan:\")\n",
    "for i, article in enumerate(articles[:10], 1):\n",
    "    print(f\"{i}. {article['Title']} ({article['Year']})\")\n",
    "    print(f\"   Abstract: {article['Abstract'][:200]}...\\n\")  # Abstrak dipersingkat\n"
   ]
  },
  {
   "cell_type": "code",
   "execution_count": 15,
   "metadata": {},
   "outputs": [
    {
     "name": "stdout",
     "output_type": "stream",
     "text": [
      "Hasil scraping telah disimpan ke universitas_brawijaya_scholar_results.csv\n"
     ]
    }
   ],
   "source": [
    "import pandas as pd\n",
    "\n",
    "# Simpan hasil ke dalam DataFrame\n",
    "df = pd.DataFrame({\"Title\": titles_list})\n",
    "\n",
    "# Simpan ke file CSV\n",
    "csv_filename = \"universitas_brawijaya_scholar_results.csv\"\n",
    "df.to_csv(csv_filename, index=False, encoding=\"utf-8\")\n",
    "\n",
    "print(f\"Hasil scraping telah disimpan ke {csv_filename}\")\n"
   ]
  }
 ],
 "metadata": {
  "kernelspec": {
   "display_name": "Python 3",
   "language": "python",
   "name": "python3"
  },
  "language_info": {
   "codemirror_mode": {
    "name": "ipython",
    "version": 3
   },
   "file_extension": ".py",
   "mimetype": "text/x-python",
   "name": "python",
   "nbconvert_exporter": "python",
   "pygments_lexer": "ipython3",
   "version": "3.10.6"
  }
 },
 "nbformat": 4,
 "nbformat_minor": 2
}
