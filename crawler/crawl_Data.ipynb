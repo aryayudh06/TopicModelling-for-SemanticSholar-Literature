{
 "cells": [
  {
   "cell_type": "code",
   "execution_count": 3,
   "metadata": {},
   "outputs": [
    {
     "name": "stdout",
     "output_type": "stream",
     "text": [
      "Requirement already satisfied: selenium in c:\\users\\hp\\appdata\\local\\programs\\python\\python310\\lib\\site-packages (4.29.0)\n",
      "Requirement already satisfied: trio~=0.17 in c:\\users\\hp\\appdata\\local\\programs\\python\\python310\\lib\\site-packages (from selenium) (0.29.0)\n",
      "Requirement already satisfied: trio-websocket~=0.9 in c:\\users\\hp\\appdata\\local\\programs\\python\\python310\\lib\\site-packages (from selenium) (0.12.2)\n",
      "Requirement already satisfied: urllib3[socks]<3,>=1.26 in c:\\users\\hp\\appdata\\local\\programs\\python\\python310\\lib\\site-packages (from selenium) (2.3.0)\n",
      "Requirement already satisfied: certifi>=2021.10.8 in c:\\users\\hp\\appdata\\local\\programs\\python\\python310\\lib\\site-packages (from selenium) (2025.1.31)\n",
      "Requirement already satisfied: websocket-client~=1.8 in c:\\users\\hp\\appdata\\local\\programs\\python\\python310\\lib\\site-packages (from selenium) (1.8.0)\n",
      "Requirement already satisfied: typing_extensions~=4.9 in c:\\users\\hp\\appdata\\local\\programs\\python\\python310\\lib\\site-packages (from selenium) (4.12.2)\n",
      "Requirement already satisfied: cffi>=1.14 in c:\\users\\hp\\appdata\\local\\programs\\python\\python310\\lib\\site-packages (from trio~=0.17->selenium) (1.17.1)\n",
      "Requirement already satisfied: outcome in c:\\users\\hp\\appdata\\local\\programs\\python\\python310\\lib\\site-packages (from trio~=0.17->selenium) (1.3.0.post0)\n",
      "Requirement already satisfied: sniffio>=1.3.0 in c:\\users\\hp\\appdata\\local\\programs\\python\\python310\\lib\\site-packages (from trio~=0.17->selenium) (1.3.1)\n",
      "Requirement already satisfied: attrs>=23.2.0 in c:\\users\\hp\\appdata\\local\\programs\\python\\python310\\lib\\site-packages (from trio~=0.17->selenium) (25.1.0)\n",
      "Requirement already satisfied: idna in c:\\users\\hp\\appdata\\local\\programs\\python\\python310\\lib\\site-packages (from trio~=0.17->selenium) (3.10)\n",
      "Requirement already satisfied: sortedcontainers in c:\\users\\hp\\appdata\\local\\programs\\python\\python310\\lib\\site-packages (from trio~=0.17->selenium) (2.4.0)\n",
      "Requirement already satisfied: exceptiongroup in c:\\users\\hp\\appdata\\local\\programs\\python\\python310\\lib\\site-packages (from trio~=0.17->selenium) (1.2.2)\n",
      "Requirement already satisfied: wsproto>=0.14 in c:\\users\\hp\\appdata\\local\\programs\\python\\python310\\lib\\site-packages (from trio-websocket~=0.9->selenium) (1.2.0)\n",
      "Requirement already satisfied: pysocks!=1.5.7,<2.0,>=1.5.6 in c:\\users\\hp\\appdata\\local\\programs\\python\\python310\\lib\\site-packages (from urllib3[socks]<3,>=1.26->selenium) (1.7.1)\n",
      "Requirement already satisfied: pycparser in c:\\users\\hp\\appdata\\local\\programs\\python\\python310\\lib\\site-packages (from cffi>=1.14->trio~=0.17->selenium) (2.22)\n",
      "Requirement already satisfied: h11<1,>=0.9.0 in c:\\users\\hp\\appdata\\local\\programs\\python\\python310\\lib\\site-packages (from wsproto>=0.14->trio-websocket~=0.9->selenium) (0.14.0)\n",
      "Note: you may need to restart the kernel to use updated packages.\n"
     ]
    },
    {
     "name": "stderr",
     "output_type": "stream",
     "text": [
      "\n",
      "[notice] A new release of pip available: 22.2.1 -> 25.0.1\n",
      "[notice] To update, run: python.exe -m pip install --upgrade pip\n"
     ]
    },
    {
     "name": "stdout",
     "output_type": "stream",
     "text": [
      "Collecting webdriver_manager\n",
      "  Downloading webdriver_manager-4.0.2-py2.py3-none-any.whl (27 kB)\n",
      "Requirement already satisfied: requests in c:\\users\\hp\\appdata\\local\\programs\\python\\python310\\lib\\site-packages (from webdriver_manager) (2.32.3)\n",
      "Requirement already satisfied: python-dotenv in c:\\users\\hp\\appdata\\local\\programs\\python\\python310\\lib\\site-packages (from webdriver_manager) (1.0.1)\n",
      "Requirement already satisfied: packaging in c:\\users\\hp\\appdata\\local\\programs\\python\\python310\\lib\\site-packages (from webdriver_manager) (24.2)\n",
      "Requirement already satisfied: charset-normalizer<4,>=2 in c:\\users\\hp\\appdata\\local\\programs\\python\\python310\\lib\\site-packages (from requests->webdriver_manager) (3.4.1)\n",
      "Requirement already satisfied: certifi>=2017.4.17 in c:\\users\\hp\\appdata\\local\\programs\\python\\python310\\lib\\site-packages (from requests->webdriver_manager) (2025.1.31)\n",
      "Requirement already satisfied: idna<4,>=2.5 in c:\\users\\hp\\appdata\\local\\programs\\python\\python310\\lib\\site-packages (from requests->webdriver_manager) (3.10)\n",
      "Requirement already satisfied: urllib3<3,>=1.21.1 in c:\\users\\hp\\appdata\\local\\programs\\python\\python310\\lib\\site-packages (from requests->webdriver_manager) (2.3.0)\n",
      "Installing collected packages: webdriver_manager\n",
      "Successfully installed webdriver_manager-4.0.2\n",
      "Note: you may need to restart the kernel to use updated packages.\n"
     ]
    },
    {
     "name": "stderr",
     "output_type": "stream",
     "text": [
      "\n",
      "[notice] A new release of pip available: 22.2.1 -> 25.0.1\n",
      "[notice] To update, run: python.exe -m pip install --upgrade pip\n"
     ]
    },
    {
     "name": "stdout",
     "output_type": "stream",
     "text": [
      "Collecting langdetect\n",
      "  Downloading langdetect-1.0.9.tar.gz (981 kB)\n",
      "     -------------------------------------- 981.5/981.5 kB 1.5 MB/s eta 0:00:00\n",
      "  Preparing metadata (setup.py): started\n",
      "  Preparing metadata (setup.py): finished with status 'done'\n",
      "Requirement already satisfied: six in c:\\users\\hp\\appdata\\roaming\\python\\python310\\site-packages (from langdetect) (1.17.0)\n",
      "Using legacy 'setup.py install' for langdetect, since package 'wheel' is not installed.\n",
      "Installing collected packages: langdetect\n",
      "  Running setup.py install for langdetect: started\n",
      "  Running setup.py install for langdetect: finished with status 'done'\n",
      "Successfully installed langdetect-1.0.9\n",
      "Note: you may need to restart the kernel to use updated packages.\n"
     ]
    },
    {
     "name": "stderr",
     "output_type": "stream",
     "text": [
      "\n",
      "[notice] A new release of pip available: 22.2.1 -> 25.0.1\n",
      "[notice] To update, run: python.exe -m pip install --upgrade pip\n"
     ]
    }
   ],
   "source": [
    "%pip install selenium\n",
    "%pip install webdriver_manager\n",
    "%pip install langdetect"
   ]
  },
  {
   "cell_type": "code",
   "execution_count": 9,
   "metadata": {},
   "outputs": [
    {
     "name": "stdout",
     "output_type": "stream",
     "text": [
      "Collecting pandas\n",
      "  Downloading pandas-2.2.3-cp310-cp310-win_amd64.whl (11.6 MB)\n",
      "     ---------------------------------------- 11.6/11.6 MB 4.8 MB/s eta 0:00:00\n",
      "Requirement already satisfied: python-dateutil>=2.8.2 in c:\\users\\hp\\appdata\\roaming\\python\\python310\\site-packages (from pandas) (2.9.0.post0)\n",
      "Collecting tzdata>=2022.7\n",
      "  Downloading tzdata-2025.1-py2.py3-none-any.whl (346 kB)\n",
      "     -------------------------------------- 346.8/346.8 kB 5.4 MB/s eta 0:00:00\n",
      "Collecting pytz>=2020.1\n",
      "  Downloading pytz-2025.1-py2.py3-none-any.whl (507 kB)\n",
      "     -------------------------------------- 507.9/507.9 kB 6.4 MB/s eta 0:00:00\n",
      "Requirement already satisfied: numpy>=1.22.4 in c:\\users\\hp\\appdata\\local\\programs\\python\\python310\\lib\\site-packages (from pandas) (2.2.3)\n",
      "Requirement already satisfied: six>=1.5 in c:\\users\\hp\\appdata\\roaming\\python\\python310\\site-packages (from python-dateutil>=2.8.2->pandas) (1.17.0)\n",
      "Installing collected packages: pytz, tzdata, pandas\n",
      "Successfully installed pandas-2.2.3 pytz-2025.1 tzdata-2025.1\n",
      "Note: you may need to restart the kernel to use updated packages.\n"
     ]
    },
    {
     "name": "stderr",
     "output_type": "stream",
     "text": [
      "\n",
      "[notice] A new release of pip available: 22.2.1 -> 25.0.1\n",
      "[notice] To update, run: python.exe -m pip install --upgrade pip\n"
     ]
    }
   ],
   "source": [
    "%pip install pandas"
   ]
  },
  {
   "cell_type": "code",
   "execution_count": 1,
   "metadata": {},
   "outputs": [
    {
     "name": "stdout",
     "output_type": "stream",
     "text": [
      "Halaman 1 selesai, total artikel terkumpul: 7\n",
      "Halaman 2 selesai, total artikel terkumpul: 12\n",
      "Halaman 3 selesai, total artikel terkumpul: 21\n",
      "Halaman 4 selesai, total artikel terkumpul: 30\n",
      "Halaman 5 selesai, total artikel terkumpul: 37\n",
      "Halaman 6 selesai, total artikel terkumpul: 47\n",
      "Halaman 7 selesai, total artikel terkumpul: 57\n",
      "Halaman 8 selesai, total artikel terkumpul: 65\n",
      "Halaman 9 selesai, total artikel terkumpul: 75\n",
      "Halaman 10 selesai, total artikel terkumpul: 84\n",
      "Halaman 11 selesai, total artikel terkumpul: 94\n",
      "Halaman 12 selesai, total artikel terkumpul: 104\n",
      "Halaman 13 selesai, total artikel terkumpul: 113\n",
      "Halaman 14 selesai, total artikel terkumpul: 123\n",
      "Halaman 15 selesai, total artikel terkumpul: 133\n",
      "Halaman 16 selesai, total artikel terkumpul: 143\n",
      "Halaman 17 selesai, total artikel terkumpul: 153\n",
      "Halaman 18 selesai, total artikel terkumpul: 163\n",
      "Halaman 19 selesai, total artikel terkumpul: 173\n",
      "Halaman 20 selesai, total artikel terkumpul: 183\n",
      "Halaman 21 selesai, total artikel terkumpul: 193\n",
      "Halaman 22 selesai, total artikel terkumpul: 203\n",
      "Halaman 23 selesai, total artikel terkumpul: 213\n",
      "Halaman 24 selesai, total artikel terkumpul: 222\n",
      "Halaman 25 selesai, total artikel terkumpul: 231\n",
      "Halaman 26 selesai, total artikel terkumpul: 241\n",
      "Halaman 27 selesai, total artikel terkumpul: 250\n",
      "Halaman 28 selesai, total artikel terkumpul: 259\n",
      "Halaman 29 selesai, total artikel terkumpul: 269\n",
      "Halaman 30 selesai, total artikel terkumpul: 279\n",
      "Halaman 31 selesai, total artikel terkumpul: 289\n",
      "Halaman 32 selesai, total artikel terkumpul: 299\n",
      "Halaman 33 selesai, total artikel terkumpul: 309\n",
      "Halaman 34 selesai, total artikel terkumpul: 318\n",
      "Halaman 35 selesai, total artikel terkumpul: 328\n",
      "Halaman 36 selesai, total artikel terkumpul: 338\n",
      "Halaman 37 selesai, total artikel terkumpul: 347\n",
      "Halaman 38 selesai, total artikel terkumpul: 357\n",
      "Halaman 39 selesai, total artikel terkumpul: 366\n",
      "Halaman 40 selesai, total artikel terkumpul: 376\n",
      "Halaman 41 selesai, total artikel terkumpul: 385\n",
      "Halaman 42 selesai, total artikel terkumpul: 395\n",
      "Halaman 43 selesai, total artikel terkumpul: 405\n",
      "Halaman 44 selesai, total artikel terkumpul: 414\n",
      "Halaman 45 selesai, total artikel terkumpul: 422\n",
      "Halaman 46 selesai, total artikel terkumpul: 432\n",
      "Halaman 47 selesai, total artikel terkumpul: 442\n",
      "Halaman 48 selesai, total artikel terkumpul: 452\n",
      "Halaman 49 selesai, total artikel terkumpul: 462\n",
      "Halaman 50 selesai, total artikel terkumpul: 471\n",
      "\n",
      "Hasil scraping telah disimpan ke universitas_brawijaya_scholar_results2.csv\n",
      "\n",
      "Beberapa Judul Artikel yang Ditemukan:\n",
      "1. [PDF] Management of Public Information Disclosure in Indonesian Autonomous University: Case Study in Universitas Brawijaya (Unknown)\n",
      "   Abstract: Good day, BICMST is the first multidisciplinary conference in Brawijaya organized by the\n",
      "Forum of Vice Dean for General and Finance Affairs. In this conference, we take the theme of “…...\n",
      "\n",
      "2. [PDF] Director Rector of Universitas Brawijaya (UB) (2015)\n",
      "   Abstract: Keywords: refusal, refusal strategy, gender, campus setting. This study aims to find out refusal\n",
      "strategies used by male and female students of English Literature, Universitas Brawijaya. …...\n",
      "\n",
      "3. Refusal Strategies Used By Male And Female Students Of English Literature In Campus Setting Of Universitas Brawijaya (2013)\n",
      "   Abstract: … menggambarkan pengembangan Universitas Brawijaya dan … akademik internasional\n",
      "Universitas Brawijaya, Indonesia, … Akademik Internasional Universitas Brawijaya, Indonesia. …...\n",
      "\n",
      "4. Achieving World Class University Through International Academic Cooperation A Case Study Of University Of Brawijaya, Indonesia (2015)\n",
      "   Abstract: Keywords: Translation, Thesis, Thesis Abstract, Demonstrative References. Translator's\n",
      "ability to translate cohesive device from one language to another would help in maintaining …...\n",
      "\n",
      "5. the Translation of Demonstrative References from English into Indonesian in Thesis Abstracts in Study Program of English Universitas Brawijaya (2023)\n",
      "   Abstract: … pembelajaran pada kalangan mahasiswa Universitas Brawijaya secara mendetail. Seperti\n",
      "… Data primer dalam penelitian ini diperoleh dari mahasiswa Universitas Brawijaya yang …...\n",
      "\n",
      "6. Motivation in learning English of first year students at Study Program of English Faculty of Cultural Studies Universitas Brawijaya (2021)\n",
      "   Abstract: PT Telekomunikasi Selular (Telkomsel) is a cellular company that has been established since\n",
      "1995, this company has carried out well as stated in the law that a company is required to …...\n",
      "\n",
      "7. … Thesis This Undergraduate Thesis Is Proposed To Be Eligible To Achieve A Bachelor Degree At Faculty Of Administrative Science, Universitas Brawijaya (Unknown)\n",
      "   Abstract: ...\n",
      "\n",
      "8. A Study On Language Learning Strategies Used By International Class Program Students At Faculty Of Law Universitas Brawijaya. Study Program Of English … (2013)\n",
      "   Abstract: … Di Fakultas Hukum Kelas Bahasa Inggris Universitas Brawijaya. Penelitian Ini Menggunakan\n",
      "… Pada Ajaran Tahun 2010 Fakultas Hukum Universitas Brawijaya. Data Studi Ini Didapat …...\n",
      "\n",
      "9. Lexical Cohesion Found In Thesis Abstracts Written By Students Of Academic Year 2011 Of Study Program Of English Universitas Brawijaya (2016)\n",
      "   Abstract: … ini dilakukan untuk mengetahui jenis-jenis kohesi leksikal dalam abstrak tesis yang ditulis\n",
      "oleh siswa tahun akademik 2011 program studi bahasa Inggris Universitas Brawijaya dan …...\n",
      "\n",
      "10. The Cohesion Devices of Thesis Abstracts Written by Students of Academic Year 2009 of Study Program of English Universitas Brawijaya (2014)\n",
      "   Abstract: … jurusan sastra Inggris Universitas Brawijaya tahun ajaran 2009. … inggris angkatan 2009\n",
      "universitas Brawijaya. Penelitian ini di … sastra Inggris Universitas Brawijaya yang mengandung …...\n",
      "\n"
     ]
    }
   ],
   "source": [
    "from selenium import webdriver\n",
    "from selenium.webdriver.common.by import By\n",
    "from selenium.webdriver.chrome.service import Service\n",
    "from selenium.webdriver.chrome.options import Options\n",
    "from selenium.webdriver.support.ui import WebDriverWait\n",
    "from selenium.webdriver.support import expected_conditions as EC\n",
    "from webdriver_manager.chrome import ChromeDriverManager\n",
    "import time\n",
    "import pandas as pd\n",
    "import re\n",
    "from langdetect import detect, DetectorFactory\n",
    "\n",
    "# Pastikan hasil deteksi bahasa konsisten\n",
    "DetectorFactory.seed = 0\n",
    "\n",
    "# Setup Selenium untuk Google Chrome\n",
    "service = Service(ChromeDriverManager().install())\n",
    "options = Options()\n",
    "options.add_argument(\"--start-maximized\")\n",
    "options.add_argument(\"user-agent=Mozilla/5.0 (Windows NT 10.0; Win64; x64) AppleWebKit/537.36 (KHTML, like Gecko) Chrome/91.0.4472.124 Safari/537.36\")\n",
    "\n",
    "# Inisialisasi driver Chrome\n",
    "driver = webdriver.Chrome(service=service, options=options)\n",
    "\n",
    "# Query pencarian\n",
    "query = '\"Universitas Brawijaya\"'\n",
    "max_pages = 50  # Batasi jumlah halaman agar tidak diblokir\n",
    "articles = []\n",
    "\n",
    "# Fungsi untuk mengecek apakah teks dalam bahasa Inggris\n",
    "def is_english(text):\n",
    "    try:\n",
    "        return detect(text) == \"en\"\n",
    "    except:\n",
    "        return False  # Jika gagal deteksi, anggap bukan bahasa Inggris\n",
    "\n",
    "# Looping untuk scrape tiap halaman\n",
    "for page in range(max_pages):\n",
    "    start = page * 10  # Google Scholar menampilkan 10 artikel per halaman\n",
    "    search_url = f\"https://scholar.google.com/scholar?lr=lang_en&q={query}&start={start}&hl=en\"\n",
    "    \n",
    "    driver.get(search_url)\n",
    "    time.sleep(3)  # Tambahkan delay untuk menghindari deteksi bot\n",
    "\n",
    "    # Periksa apakah ada hasil pencarian\n",
    "    if \"did not match any articles\" in driver.page_source:\n",
    "        print(f\"Tidak ada hasil di halaman {page + 1}, berhenti scraping.\")\n",
    "        break\n",
    "\n",
    "    # Tunggu hingga elemen artikel muncul\n",
    "    wait = WebDriverWait(driver, 10)\n",
    "    try:\n",
    "        wait.until(EC.presence_of_all_elements_located((By.CSS_SELECTOR, \"h3.gs_rt\")))\n",
    "    except:\n",
    "        print(f\"Halaman {page + 1} tidak menampilkan artikel, mungkin terblokir.\")\n",
    "        break\n",
    "\n",
    "    # Ambil semua artikel\n",
    "    titles = driver.find_elements(By.CSS_SELECTOR, \"h3.gs_rt\")\n",
    "    infos = driver.find_elements(By.CSS_SELECTOR, \"div.gs_a\")  # Info tahun\n",
    "    abstracts = driver.find_elements(By.CSS_SELECTOR, \"div.gs_rs\")  # Abstrak\n",
    "\n",
    "    if not titles:\n",
    "        print(f\"Tidak ada judul ditemukan di halaman {page + 1}, mungkin diblokir.\")\n",
    "        break\n",
    "\n",
    "    for i in range(len(titles)):\n",
    "        title_text = titles[i].text.strip() if i < len(titles) else \"\"\n",
    "        info_text = infos[i].text if i < len(infos) else \"\"\n",
    "        abstract_text = abstracts[i].text.strip() if i < len(abstracts) else \"\"\n",
    "\n",
    "        # Ekstrak tahun (4 digit)\n",
    "        year_match = re.search(r\"\\b(19|20)\\d{2}\\b\", info_text)\n",
    "        year = year_match.group(0) if year_match else \"Unknown\"\n",
    "\n",
    "        # Simpan hanya jika berbahasa Inggris\n",
    "        if title_text and is_english(title_text):\n",
    "            articles.append({\"Title\": title_text, \"Year\": year, \"Abstract\": abstract_text})\n",
    "\n",
    "    print(f\"Halaman {page + 1} selesai, total artikel terkumpul: {len(articles)}\")\n",
    "\n",
    "# Tutup browser\n",
    "driver.quit()\n",
    "\n",
    "# Simpan hasil ke dalam file CSV\n",
    "df = pd.DataFrame(articles)\n",
    "csv_filename = \"universitas_brawijaya_scholar_results2.csv\"\n",
    "df.to_csv(csv_filename, index=False, encoding=\"utf-8\")\n",
    "\n",
    "print(f\"\\nHasil scraping telah disimpan ke {csv_filename}\")\n",
    "\n",
    "# Cetak hasil (hanya beberapa contoh)\n",
    "print(\"\\nBeberapa Judul Artikel yang Ditemukan:\")\n",
    "for i, article in enumerate(articles[:10], 1):\n",
    "    print(f\"{i}. {article['Title']} ({article['Year']})\")\n",
    "    print(f\"   Abstract: {article['Abstract'][:200]}...\\n\")  # Abstrak dipersingkat\n"
   ]
  },
  {
   "cell_type": "code",
   "execution_count": 2,
   "metadata": {},
   "outputs": [
    {
     "data": {
      "text/html": [
       "<div>\n",
       "<style scoped>\n",
       "    .dataframe tbody tr th:only-of-type {\n",
       "        vertical-align: middle;\n",
       "    }\n",
       "\n",
       "    .dataframe tbody tr th {\n",
       "        vertical-align: top;\n",
       "    }\n",
       "\n",
       "    .dataframe thead th {\n",
       "        text-align: right;\n",
       "    }\n",
       "</style>\n",
       "<table border=\"1\" class=\"dataframe\">\n",
       "  <thead>\n",
       "    <tr style=\"text-align: right;\">\n",
       "      <th></th>\n",
       "      <th>Title</th>\n",
       "      <th>Year</th>\n",
       "      <th>Abstract</th>\n",
       "    </tr>\n",
       "  </thead>\n",
       "  <tbody>\n",
       "    <tr>\n",
       "      <th>0</th>\n",
       "      <td>[PDF] Management of Public Information Disclos...</td>\n",
       "      <td>Unknown</td>\n",
       "      <td>Good day, BICMST is the first multidisciplinar...</td>\n",
       "    </tr>\n",
       "    <tr>\n",
       "      <th>1</th>\n",
       "      <td>[PDF] Director Rector of Universitas Brawijaya...</td>\n",
       "      <td>2015</td>\n",
       "      <td>Keywords: refusal, refusal strategy, gender, c...</td>\n",
       "    </tr>\n",
       "    <tr>\n",
       "      <th>2</th>\n",
       "      <td>Refusal Strategies Used By Male And Female Stu...</td>\n",
       "      <td>2013</td>\n",
       "      <td>… menggambarkan pengembangan Universitas Brawi...</td>\n",
       "    </tr>\n",
       "    <tr>\n",
       "      <th>3</th>\n",
       "      <td>Achieving World Class University Through Inter...</td>\n",
       "      <td>2015</td>\n",
       "      <td>Keywords: Translation, Thesis, Thesis Abstract...</td>\n",
       "    </tr>\n",
       "    <tr>\n",
       "      <th>4</th>\n",
       "      <td>the Translation of Demonstrative References fr...</td>\n",
       "      <td>2023</td>\n",
       "      <td>… pembelajaran pada kalangan mahasiswa Univers...</td>\n",
       "    </tr>\n",
       "  </tbody>\n",
       "</table>\n",
       "</div>"
      ],
      "text/plain": [
       "                                               Title     Year  \\\n",
       "0  [PDF] Management of Public Information Disclos...  Unknown   \n",
       "1  [PDF] Director Rector of Universitas Brawijaya...     2015   \n",
       "2  Refusal Strategies Used By Male And Female Stu...     2013   \n",
       "3  Achieving World Class University Through Inter...     2015   \n",
       "4  the Translation of Demonstrative References fr...     2023   \n",
       "\n",
       "                                            Abstract  \n",
       "0  Good day, BICMST is the first multidisciplinar...  \n",
       "1  Keywords: refusal, refusal strategy, gender, c...  \n",
       "2  … menggambarkan pengembangan Universitas Brawi...  \n",
       "3  Keywords: Translation, Thesis, Thesis Abstract...  \n",
       "4  … pembelajaran pada kalangan mahasiswa Univers...  "
      ]
     },
     "execution_count": 2,
     "metadata": {},
     "output_type": "execute_result"
    }
   ],
   "source": [
    "df = pd.read_csv(\"universitas_brawijaya_scholar_results2.csv\")\n",
    "df.head()"
   ]
  },
  {
   "cell_type": "code",
   "execution_count": 9,
   "metadata": {},
   "outputs": [
    {
     "data": {
      "text/plain": [
       "0      False\n",
       "1      False\n",
       "2      False\n",
       "3      False\n",
       "4      False\n",
       "       ...  \n",
       "466    False\n",
       "467    False\n",
       "468    False\n",
       "469    False\n",
       "470    False\n",
       "Name: Abstract, Length: 471, dtype: bool"
      ]
     },
     "execution_count": 9,
     "metadata": {},
     "output_type": "execute_result"
    }
   ],
   "source": [
    "df['Abstract'].isna()"
   ]
  },
  {
   "cell_type": "code",
   "execution_count": 10,
   "metadata": {},
   "outputs": [
    {
     "data": {
      "text/plain": [
       "0      Unknown\n",
       "1         2015\n",
       "2         2013\n",
       "3         2015\n",
       "4         2023\n",
       "        ...   \n",
       "466       2013\n",
       "467       2017\n",
       "468       2018\n",
       "469       2019\n",
       "470       2020\n",
       "Name: Year, Length: 471, dtype: object"
      ]
     },
     "execution_count": 10,
     "metadata": {},
     "output_type": "execute_result"
    }
   ],
   "source": [
    "df.Year"
   ]
  },
  {
   "cell_type": "code",
   "execution_count": 15,
   "metadata": {},
   "outputs": [
    {
     "name": "stdout",
     "output_type": "stream",
     "text": [
      "Hasil scraping telah disimpan ke universitas_brawijaya_scholar_results.csv\n"
     ]
    }
   ],
   "source": [
    "import pandas as pd\n",
    "\n",
    "# Simpan hasil ke dalam DataFrame\n",
    "df = pd.DataFrame({\"Title\": titles_list})\n",
    "\n",
    "# Simpan ke file CSV\n",
    "csv_filename = \"universitas_brawijaya_scholar_results.csv\"\n",
    "df.to_csv(csv_filename, index=False, encoding=\"utf-8\")\n",
    "\n",
    "print(f\"Hasil scraping telah disimpan ke {csv_filename}\")\n"
   ]
  }
 ],
 "metadata": {
  "kernelspec": {
   "display_name": "base",
   "language": "python",
   "name": "python3"
  },
  "language_info": {
   "codemirror_mode": {
    "name": "ipython",
    "version": 3
   },
   "file_extension": ".py",
   "mimetype": "text/x-python",
   "name": "python",
   "nbconvert_exporter": "python",
   "pygments_lexer": "ipython3",
   "version": "3.12.4"
  }
 },
 "nbformat": 4,
 "nbformat_minor": 2
}
