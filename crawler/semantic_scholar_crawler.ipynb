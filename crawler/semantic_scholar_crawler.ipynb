{
 "cells": [
  {
   "cell_type": "code",
   "execution_count": null,
   "metadata": {},
   "outputs": [
    {
     "name": "stdout",
     "output_type": "stream",
     "text": [
      "Terlalu banyak permintaan! Menunggu 15 detik...\n",
      "Terlalu banyak permintaan! Menunggu 15 detik...\n",
      "Terlalu banyak permintaan! Menunggu 15 detik...\n",
      "Data berhasil disimpan dalam semantic_scholar_results.csv\n"
     ]
    }
   ],
   "source": [
    "import requests\n",
    "import time\n",
    "import pandas as pd\n",
    "\n",
    "# Fungsi untuk melakukan crawling dari Semantic Scholar API\n",
    "def crawl_semantic_scholar(query, max_results=1500):\n",
    "    base_url = \"https://api.semanticscholar.org/graph/v1/paper/search\"\n",
    "    params = {\n",
    "        \"query\": query,\n",
    "        \"limit\": 100,  # Ambil 100 data per batch\n",
    "        \"fields\": \"title,url,abstract,year,externalIds\"\n",
    "    }\n",
    "    \n",
    "    results = []\n",
    "    next_cursor = None  # Untuk pagination\n",
    "\n",
    "    while len(results) < max_results:\n",
    "        try:\n",
    "            if next_cursor:\n",
    "                params[\"next\"] = next_cursor  # Gunakan cursor-based pagination\n",
    "            \n",
    "            response = requests.get(base_url, params=params, timeout=10)\n",
    "            \n",
    "            if response.status_code == 429:\n",
    "                print(\"Terlalu banyak permintaan! Menunggu 60 detik...\")\n",
    "                time.sleep(60)\n",
    "                continue\n",
    "            \n",
    "            response.raise_for_status()\n",
    "            data = response.json()\n",
    "            \n",
    "            if not data.get(\"data\"):  # Jika tidak ada hasil, hentikan\n",
    "                print(\"Tidak ada data tambahan, berhenti.\")\n",
    "                break\n",
    "            \n",
    "            for paper in data[\"data\"]:\n",
    "                results.append({\n",
    "                    \"title\": paper.get(\"title\", \"Title Unavailable\"),\n",
    "                    \"link\": paper.get(\"url\", \"Link Unavailable\"),\n",
    "                    \"doi\": paper.get(\"externalIds\", {}).get(\"DOI\", \"DOI Unavailable\"),\n",
    "                    \"abstract\": paper.get(\"abstract\", \"Abstract unavailable\"),\n",
    "                    \"year\": paper.get(\"year\", \"Unavailable\")\n",
    "                })\n",
    "                \n",
    "                if len(results) >= max_results:\n",
    "                    break\n",
    "            \n",
    "            # Ambil cursor untuk pagination\n",
    "            next_cursor = data.get(\"next\", None)\n",
    "            if not next_cursor:\n",
    "                print(\"Tidak ada halaman berikutnya.\")\n",
    "                break\n",
    "            \n",
    "            time.sleep(15)  # Hindari rate limit\n",
    "            \n",
    "        except requests.exceptions.RequestException as e:\n",
    "            print(f\"Terjadi kesalahan: {e}\")\n",
    "            time.sleep(240)  # Jika error, tunggu lama agar tidak diblokir\n",
    "    \n",
    "    return results\n",
    "\n",
    "# Query pencarian\n",
    "query = \"Artificial Intelligence\"\n",
    "max_results = 1500\n",
    "\n",
    "data = crawl_semantic_scholar(query, max_results)\n",
    "\n",
    "df = pd.DataFrame(data)\n",
    "df.to_csv('../data/semantic_scholar_results.csv', index=False)\n",
    "\n",
    "print(\"Data berhasil disimpan dalam /data/semantic_scholar_results.csv\")\n"
   ]
  }
 ],
 "metadata": {
  "kernelspec": {
   "display_name": "base",
   "language": "python",
   "name": "python3"
  },
  "language_info": {
   "codemirror_mode": {
    "name": "ipython",
    "version": 3
   },
   "file_extension": ".py",
   "mimetype": "text/x-python",
   "name": "python",
   "nbconvert_exporter": "python",
   "pygments_lexer": "ipython3",
   "version": "3.12.4"
  }
 },
 "nbformat": 4,
 "nbformat_minor": 2
}
