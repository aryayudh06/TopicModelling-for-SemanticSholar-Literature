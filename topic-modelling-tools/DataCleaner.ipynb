{
 "cells": [
  {
   "cell_type": "code",
   "execution_count": 2,
   "metadata": {},
   "outputs": [
    {
     "name": "stdout",
     "output_type": "stream",
     "text": [
      "Collecting deep_translatorNote: you may need to restart the kernel to use updated packages.\n",
      "\n",
      "  Downloading deep_translator-1.11.4-py3-none-any.whl.metadata (30 kB)\n",
      "Collecting beautifulsoup4<5.0.0,>=4.9.1 (from deep_translator)\n",
      "  Downloading beautifulsoup4-4.13.3-py3-none-any.whl.metadata (3.8 kB)\n",
      "Requirement already satisfied: requests<3.0.0,>=2.23.0 in c:\\users\\adela\\appdata\\local\\packages\\pythonsoftwarefoundation.python.3.11_qbz5n2kfra8p0\\localcache\\local-packages\\python311\\site-packages (from deep_translator) (2.32.3)\n",
      "Collecting soupsieve>1.2 (from beautifulsoup4<5.0.0,>=4.9.1->deep_translator)\n",
      "  Downloading soupsieve-2.6-py3-none-any.whl.metadata (4.6 kB)\n",
      "Requirement already satisfied: typing-extensions>=4.0.0 in c:\\users\\adela\\appdata\\local\\packages\\pythonsoftwarefoundation.python.3.11_qbz5n2kfra8p0\\localcache\\local-packages\\python311\\site-packages (from beautifulsoup4<5.0.0,>=4.9.1->deep_translator) (4.12.2)\n",
      "Requirement already satisfied: charset-normalizer<4,>=2 in c:\\users\\adela\\appdata\\local\\packages\\pythonsoftwarefoundation.python.3.11_qbz5n2kfra8p0\\localcache\\local-packages\\python311\\site-packages (from requests<3.0.0,>=2.23.0->deep_translator) (3.4.1)\n",
      "Requirement already satisfied: idna<4,>=2.5 in c:\\users\\adela\\appdata\\local\\packages\\pythonsoftwarefoundation.python.3.11_qbz5n2kfra8p0\\localcache\\local-packages\\python311\\site-packages (from requests<3.0.0,>=2.23.0->deep_translator) (3.10)\n",
      "Requirement already satisfied: urllib3<3,>=1.21.1 in c:\\users\\adela\\appdata\\local\\packages\\pythonsoftwarefoundation.python.3.11_qbz5n2kfra8p0\\localcache\\local-packages\\python311\\site-packages (from requests<3.0.0,>=2.23.0->deep_translator) (2.3.0)\n",
      "Requirement already satisfied: certifi>=2017.4.17 in c:\\users\\adela\\appdata\\local\\packages\\pythonsoftwarefoundation.python.3.11_qbz5n2kfra8p0\\localcache\\local-packages\\python311\\site-packages (from requests<3.0.0,>=2.23.0->deep_translator) (2025.1.31)\n",
      "Downloading deep_translator-1.11.4-py3-none-any.whl (42 kB)\n",
      "   ---------------------------------------- 0.0/42.3 kB ? eta -:--:--\n",
      "   ----------------------------- ---------- 30.7/42.3 kB 640.0 kB/s eta 0:00:01\n",
      "   ---------------------------------------- 42.3/42.3 kB 508.6 kB/s eta 0:00:00\n",
      "Downloading beautifulsoup4-4.13.3-py3-none-any.whl (186 kB)\n",
      "   ---------------------------------------- 0.0/186.0 kB ? eta -:--:--\n",
      "   --------------- ------------------------ 71.7/186.0 kB 2.0 MB/s eta 0:00:01\n",
      "   ------------------- -------------------- 92.2/186.0 kB 1.3 MB/s eta 0:00:01\n",
      "   ------------------------------ --------- 143.4/186.0 kB 1.2 MB/s eta 0:00:01\n",
      "   ---------------------------------------- 186.0/186.0 kB 1.1 MB/s eta 0:00:00\n",
      "Downloading soupsieve-2.6-py3-none-any.whl (36 kB)\n",
      "Installing collected packages: soupsieve, beautifulsoup4, deep_translator\n",
      "Successfully installed beautifulsoup4-4.13.3 deep_translator-1.11.4 soupsieve-2.6\n"
     ]
    },
    {
     "name": "stderr",
     "output_type": "stream",
     "text": [
      "\n",
      "[notice] A new release of pip is available: 24.0 -> 25.0.1\n",
      "[notice] To update, run: C:\\Users\\adela\\AppData\\Local\\Microsoft\\WindowsApps\\PythonSoftwareFoundation.Python.3.11_qbz5n2kfra8p0\\python.exe -m pip install --upgrade pip\n"
     ]
    }
   ],
   "source": [
    "pip install deep_translator"
   ]
  },
  {
   "cell_type": "code",
   "execution_count": 3,
   "metadata": {},
   "outputs": [
    {
     "name": "stderr",
     "output_type": "stream",
     "text": [
      "[nltk_data] Downloading package punkt to\n",
      "[nltk_data]     C:\\Users\\adela\\AppData\\Roaming\\nltk_data...\n",
      "[nltk_data]   Package punkt is already up-to-date!\n",
      "[nltk_data] Downloading package stopwords to\n",
      "[nltk_data]     C:\\Users\\adela\\AppData\\Roaming\\nltk_data...\n",
      "[nltk_data]   Package stopwords is already up-to-date!\n",
      "[nltk_data] Downloading package wordnet to\n",
      "[nltk_data]     C:\\Users\\adela\\AppData\\Roaming\\nltk_data...\n",
      "[nltk_data]   Package wordnet is already up-to-date!\n",
      "[nltk_data] Downloading package omw-1.4 to\n",
      "[nltk_data]     C:\\Users\\adela\\AppData\\Roaming\\nltk_data...\n",
      "[nltk_data]   Package omw-1.4 is already up-to-date!\n"
     ]
    },
    {
     "data": {
      "text/plain": [
       "True"
      ]
     },
     "execution_count": 3,
     "metadata": {},
     "output_type": "execute_result"
    }
   ],
   "source": [
    "import pandas as pd\n",
    "import re\n",
    "from deep_translator import GoogleTranslator\n",
    "import nltk\n",
    "from nltk.tokenize import word_tokenize\n",
    "from nltk.corpus import stopwords\n",
    "from nltk.stem import WordNetLemmatizer\n",
    "\n",
    "nltk.download('punkt')\n",
    "nltk.download('stopwords')\n",
    "nltk.download('wordnet')\n",
    "nltk.download('omw-1.4')\n"
   ]
  },
  {
   "cell_type": "code",
   "execution_count": 5,
   "metadata": {},
   "outputs": [],
   "source": [
    "data = pd.read_csv(\"universitas_brawijaya_scholar_results2.csv\")"
   ]
  },
  {
   "cell_type": "code",
   "execution_count": 6,
   "metadata": {},
   "outputs": [
    {
     "data": {
      "text/html": [
       "<div>\n",
       "<style scoped>\n",
       "    .dataframe tbody tr th:only-of-type {\n",
       "        vertical-align: middle;\n",
       "    }\n",
       "\n",
       "    .dataframe tbody tr th {\n",
       "        vertical-align: top;\n",
       "    }\n",
       "\n",
       "    .dataframe thead th {\n",
       "        text-align: right;\n",
       "    }\n",
       "</style>\n",
       "<table border=\"1\" class=\"dataframe\">\n",
       "  <thead>\n",
       "    <tr style=\"text-align: right;\">\n",
       "      <th></th>\n",
       "      <th>Title</th>\n",
       "      <th>Year</th>\n",
       "      <th>Abstract</th>\n",
       "    </tr>\n",
       "  </thead>\n",
       "  <tbody>\n",
       "    <tr>\n",
       "      <th>0</th>\n",
       "      <td>[PDF] Management of Public Information Disclos...</td>\n",
       "      <td>Unknown</td>\n",
       "      <td>Good day, BICMST is the first multidisciplinar...</td>\n",
       "    </tr>\n",
       "    <tr>\n",
       "      <th>1</th>\n",
       "      <td>[PDF] Director Rector of Universitas Brawijaya...</td>\n",
       "      <td>2015</td>\n",
       "      <td>Keywords: refusal, refusal strategy, gender, c...</td>\n",
       "    </tr>\n",
       "    <tr>\n",
       "      <th>2</th>\n",
       "      <td>Refusal Strategies Used By Male And Female Stu...</td>\n",
       "      <td>2013</td>\n",
       "      <td>… menggambarkan pengembangan Universitas Brawi...</td>\n",
       "    </tr>\n",
       "    <tr>\n",
       "      <th>3</th>\n",
       "      <td>Achieving World Class University Through Inter...</td>\n",
       "      <td>2015</td>\n",
       "      <td>Keywords: Translation, Thesis, Thesis Abstract...</td>\n",
       "    </tr>\n",
       "    <tr>\n",
       "      <th>4</th>\n",
       "      <td>the Translation of Demonstrative References fr...</td>\n",
       "      <td>2023</td>\n",
       "      <td>… pembelajaran pada kalangan mahasiswa Univers...</td>\n",
       "    </tr>\n",
       "  </tbody>\n",
       "</table>\n",
       "</div>"
      ],
      "text/plain": [
       "                                               Title     Year  \\\n",
       "0  [PDF] Management of Public Information Disclos...  Unknown   \n",
       "1  [PDF] Director Rector of Universitas Brawijaya...     2015   \n",
       "2  Refusal Strategies Used By Male And Female Stu...     2013   \n",
       "3  Achieving World Class University Through Inter...     2015   \n",
       "4  the Translation of Demonstrative References fr...     2023   \n",
       "\n",
       "                                            Abstract  \n",
       "0  Good day, BICMST is the first multidisciplinar...  \n",
       "1  Keywords: refusal, refusal strategy, gender, c...  \n",
       "2  … menggambarkan pengembangan Universitas Brawi...  \n",
       "3  Keywords: Translation, Thesis, Thesis Abstract...  \n",
       "4  … pembelajaran pada kalangan mahasiswa Univers...  "
      ]
     },
     "execution_count": 6,
     "metadata": {},
     "output_type": "execute_result"
    }
   ],
   "source": [
    "data.head()"
   ]
  },
  {
   "cell_type": "code",
   "execution_count": 8,
   "metadata": {},
   "outputs": [],
   "source": [
    "translator = GoogleTranslator(source='auto', target='en')\n",
    "stop_words = set(stopwords.words('english'))\n",
    "lemmatizer = WordNetLemmatizer()\n",
    "\n",
    "def CleanText(text):\n",
    "    if not isinstance(text, str):  # Pastikan input adalah string\n",
    "        return \"\"\n",
    "    \n",
    "    text = re.sub(r\"\\[.*?\\]\", \"\", text)  # Hapus teks dalam kurung siku []\n",
    "    text = re.sub(r\"\\b\\d{4}\\b\", \"\", text)  # Hapus tahun (4 digit angka yang berdiri sendiri)\n",
    "    text = text.strip().lower()  # Konversi ke huruf kecil\n",
    "    \n",
    "    # Tokenisasi\n",
    "    tokens = word_tokenize(text)\n",
    "    \n",
    "    # Hapus stopwords & lakukan lemmatization\n",
    "    stop_words = set(stopwords.words('english'))  # Inisialisasi di dalam fungsi\n",
    "    lemmatizer = WordNetLemmatizer()  # Inisialisasi di dalam fungsi\n",
    "    tokens = [lemmatizer.lemmatize(word) for word in tokens if word not in stop_words and word.isalnum()]\n",
    "    \n",
    "    return \" \".join(tokens)\n",
    "\n",
    "\n",
    "def Translate(text):\n",
    "    return translator.translate(text) if text else None\n",
    "\n",
    "data[\"Title\"] = data[\"Title\"].apply(CleanText)\n",
    "data[\"Title\"] = data[\"Title\"].apply(Translate)\n",
    "data = data.replace(\"\", None).dropna().reset_index(drop=True)"
   ]
  },
  {
   "cell_type": "code",
   "execution_count": 9,
   "metadata": {},
   "outputs": [
    {
     "name": "stdout",
     "output_type": "stream",
     "text": [
      "                                                 Title     Year  \\\n",
      "0    Management of Public Information Disclosure In...  Unknown   \n",
      "1        Universitas Universitas Brawijaya UB Director     2015   \n",
      "2    Refusal Strategy Used Male Female Student Engl...     2013   \n",
      "3    achieving world class university international...     2015   \n",
      "4    Translation Demonstrative Reference English In...     2023   \n",
      "..                                                 ...      ...   \n",
      "933  susan cooper struggle equality workplace portr...     2017   \n",
      "934  study consumer preference online public transp...     2019   \n",
      "935  effect financial attitude financial knowledge ...     2020   \n",
      "936  external internal conflict alice munro short s...     2016   \n",
      "937  implementation daily english speaking program ...     2015   \n",
      "\n",
      "                                              Abstract  \n",
      "0    Good day, BICMST is the first multidisciplinar...  \n",
      "1    Keywords: refusal, refusal strategy, gender, c...  \n",
      "2    … menggambarkan pengembangan Universitas Brawi...  \n",
      "3    Keywords: Translation, Thesis, Thesis Abstract...  \n",
      "4    … pembelajaran pada kalangan mahasiswa Univers...  \n",
      "..                                                 ...  \n",
      "933  Pembangunan masyarakat telah ada sejak dulu. L...  \n",
      "934  Penelitian ini bertujuan untuk menguji secara ...  \n",
      "935  Penelitian ini bertujuan untuk menganalisis pe...  \n",
      "936  Cerita pendek adalah karya sastra pendek dan s...  \n",
      "937         … Sarjana thesis, Universitas Brawijaya. …  \n",
      "\n",
      "[938 rows x 3 columns]\n"
     ]
    }
   ],
   "source": [
    "print(data)"
   ]
  },
  {
   "cell_type": "code",
   "execution_count": 10,
   "metadata": {},
   "outputs": [],
   "source": [
    "data.to_csv(\"ubscholar_result_clean.csv\", index=False)"
   ]
  }
 ],
 "metadata": {
  "kernelspec": {
   "display_name": "Python 3",
   "language": "python",
   "name": "python3"
  },
  "language_info": {
   "codemirror_mode": {
    "name": "ipython",
    "version": 3
   },
   "file_extension": ".py",
   "mimetype": "text/x-python",
   "name": "python",
   "nbconvert_exporter": "python",
   "pygments_lexer": "ipython3",
   "version": "3.11.9"
  }
 },
 "nbformat": 4,
 "nbformat_minor": 2
}
